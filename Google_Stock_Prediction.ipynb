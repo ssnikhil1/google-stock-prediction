{
  "nbformat": 4,
  "nbformat_minor": 0,
  "metadata": {
    "colab": {
      "name": "Google_Stock_Prediction.ipynb",
      "provenance": [],
      "collapsed_sections": [],
      "authorship_tag": "ABX9TyMHuiDP+aBRC/BBWRo31c63",
      "include_colab_link": true
    },
    "kernelspec": {
      "display_name": "Python 3",
      "name": "python3"
    }
  },
  "cells": [
    {
      "cell_type": "markdown",
      "metadata": {
        "id": "view-in-github",
        "colab_type": "text"
      },
      "source": [
        "<a href=\"https://colab.research.google.com/github/ssnikhil1/google_stock_prediction/blob/main/Google_Stock_Prediction.ipynb\" target=\"_parent\"><img src=\"https://colab.research.google.com/assets/colab-badge.svg\" alt=\"Open In Colab\"/></a>"
      ]
    },
    {
      "cell_type": "markdown",
      "metadata": {
        "id": "TjJakN0GJe7t"
      },
      "source": [
        "**Google Stock Price Prediction And Forecasting using stacked LSTM-Deep Learning**\n",
        "\n",
        "\n",
        "\n"
      ]
    },
    {
      "cell_type": "code",
      "metadata": {
        "colab": {
          "resources": {
            "http://localhost:8080/nbextensions/google.colab/files.js": {
              "data": "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",
              "ok": true,
              "headers": [
                [
                  "content-type",
                  "application/javascript"
                ]
              ],
              "status": 200,
              "status_text": ""
            }
          },
          "base_uri": "https://localhost:8080/",
          "height": 73
        },
        "id": "EHuDV-o4pFDx",
        "outputId": "6cf49a0e-782e-4f89-eb98-c9bfe75f7880"
      },
      "source": [
        "from google.colab import files \n",
        "uploaded = files.upload()"
      ],
      "execution_count": null,
      "outputs": [
        {
          "output_type": "display_data",
          "data": {
            "text/html": [
              "\n",
              "     <input type=\"file\" id=\"files-1900a8d3-e56e-4a90-8413-9635ce9e2d86\" name=\"files[]\" multiple disabled\n",
              "        style=\"border:none\" />\n",
              "     <output id=\"result-1900a8d3-e56e-4a90-8413-9635ce9e2d86\">\n",
              "      Upload widget is only available when the cell has been executed in the\n",
              "      current browser session. Please rerun this cell to enable.\n",
              "      </output>\n",
              "      <script src=\"/nbextensions/google.colab/files.js\"></script> "
            ],
            "text/plain": [
              "<IPython.core.display.HTML object>"
            ]
          },
          "metadata": {
            "tags": []
          }
        },
        {
          "output_type": "stream",
          "text": [
            "Saving trainset.csv to trainset.csv\n"
          ],
          "name": "stdout"
        }
      ]
    },
    {
      "cell_type": "code",
      "metadata": {
        "colab": {
          "base_uri": "https://localhost:8080/",
          "height": 197
        },
        "id": "JaflRBl6qcDN",
        "outputId": "963f50bf-a1e9-4b6f-dfd0-e8abd3fc18e9"
      },
      "source": [
        "import pandas as pd \n",
        "import io \n",
        "df = pd.read_csv(io.BytesIO(uploaded['trainset.csv'])) \n",
        "\n",
        "df.head()"
      ],
      "execution_count": null,
      "outputs": [
        {
          "output_type": "execute_result",
          "data": {
            "text/html": [
              "<div>\n",
              "<style scoped>\n",
              "    .dataframe tbody tr th:only-of-type {\n",
              "        vertical-align: middle;\n",
              "    }\n",
              "\n",
              "    .dataframe tbody tr th {\n",
              "        vertical-align: top;\n",
              "    }\n",
              "\n",
              "    .dataframe thead th {\n",
              "        text-align: right;\n",
              "    }\n",
              "</style>\n",
              "<table border=\"1\" class=\"dataframe\">\n",
              "  <thead>\n",
              "    <tr style=\"text-align: right;\">\n",
              "      <th></th>\n",
              "      <th>Date</th>\n",
              "      <th>Open</th>\n",
              "      <th>High</th>\n",
              "      <th>Low</th>\n",
              "      <th>Close</th>\n",
              "      <th>Adj Close</th>\n",
              "      <th>Volume</th>\n",
              "    </tr>\n",
              "  </thead>\n",
              "  <tbody>\n",
              "    <tr>\n",
              "      <th>0</th>\n",
              "      <td>2013-01-02</td>\n",
              "      <td>357.385559</td>\n",
              "      <td>361.151062</td>\n",
              "      <td>355.959839</td>\n",
              "      <td>359.288177</td>\n",
              "      <td>359.288177</td>\n",
              "      <td>5115500</td>\n",
              "    </tr>\n",
              "    <tr>\n",
              "      <th>1</th>\n",
              "      <td>2013-01-03</td>\n",
              "      <td>360.122742</td>\n",
              "      <td>363.600128</td>\n",
              "      <td>358.031342</td>\n",
              "      <td>359.496826</td>\n",
              "      <td>359.496826</td>\n",
              "      <td>4666500</td>\n",
              "    </tr>\n",
              "    <tr>\n",
              "      <th>2</th>\n",
              "      <td>2013-01-04</td>\n",
              "      <td>362.313507</td>\n",
              "      <td>368.339294</td>\n",
              "      <td>361.488861</td>\n",
              "      <td>366.600616</td>\n",
              "      <td>366.600616</td>\n",
              "      <td>5562800</td>\n",
              "    </tr>\n",
              "    <tr>\n",
              "      <th>3</th>\n",
              "      <td>2013-01-07</td>\n",
              "      <td>365.348755</td>\n",
              "      <td>367.301056</td>\n",
              "      <td>362.929504</td>\n",
              "      <td>365.001007</td>\n",
              "      <td>365.001007</td>\n",
              "      <td>3332900</td>\n",
              "    </tr>\n",
              "    <tr>\n",
              "      <th>4</th>\n",
              "      <td>2013-01-08</td>\n",
              "      <td>365.393463</td>\n",
              "      <td>365.771027</td>\n",
              "      <td>359.874359</td>\n",
              "      <td>364.280701</td>\n",
              "      <td>364.280701</td>\n",
              "      <td>3373900</td>\n",
              "    </tr>\n",
              "  </tbody>\n",
              "</table>\n",
              "</div>"
            ],
            "text/plain": [
              "         Date        Open        High  ...       Close   Adj Close   Volume\n",
              "0  2013-01-02  357.385559  361.151062  ...  359.288177  359.288177  5115500\n",
              "1  2013-01-03  360.122742  363.600128  ...  359.496826  359.496826  4666500\n",
              "2  2013-01-04  362.313507  368.339294  ...  366.600616  366.600616  5562800\n",
              "3  2013-01-07  365.348755  367.301056  ...  365.001007  365.001007  3332900\n",
              "4  2013-01-08  365.393463  365.771027  ...  364.280701  364.280701  3373900\n",
              "\n",
              "[5 rows x 7 columns]"
            ]
          },
          "metadata": {
            "tags": []
          },
          "execution_count": 33
        }
      ]
    },
    {
      "cell_type": "code",
      "metadata": {
        "colab": {
          "resources": {
            "http://localhost:8080/nbextensions/google.colab/files.js": {
              "data": "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",
              "headers": [
                [
                  "content-type",
                  "application/javascript"
                ]
              ],
              "ok": true,
              "status": 200,
              "status_text": ""
            }
          },
          "base_uri": "https://localhost:8080/",
          "height": 73
        },
        "id": "68Z0ci7A6bo_",
        "outputId": "b34afedc-e835-49ec-b268-149ebb8b26f0"
      },
      "source": [
        "from google.colab import files \n",
        "uploaded = files.upload()"
      ],
      "execution_count": null,
      "outputs": [
        {
          "output_type": "display_data",
          "data": {
            "text/html": [
              "\n",
              "     <input type=\"file\" id=\"files-614c20a7-2642-4449-9f78-e960c892820b\" name=\"files[]\" multiple disabled\n",
              "        style=\"border:none\" />\n",
              "     <output id=\"result-614c20a7-2642-4449-9f78-e960c892820b\">\n",
              "      Upload widget is only available when the cell has been executed in the\n",
              "      current browser session. Please rerun this cell to enable.\n",
              "      </output>\n",
              "      <script src=\"/nbextensions/google.colab/files.js\"></script> "
            ],
            "text/plain": [
              "<IPython.core.display.HTML object>"
            ]
          },
          "metadata": {
            "tags": []
          }
        },
        {
          "output_type": "stream",
          "text": [
            "Saving testset.csv to testset (2).csv\n"
          ],
          "name": "stdout"
        }
      ]
    },
    {
      "cell_type": "code",
      "metadata": {
        "colab": {
          "base_uri": "https://localhost:8080/",
          "height": 197
        },
        "id": "fKLFFuYT6jWO",
        "outputId": "7d6f6ffb-7687-479b-82b5-17aa161847a6"
      },
      "source": [
        "df1 = pd.read_csv(io.BytesIO(uploaded['testset.csv'])) \n",
        "\n",
        "df1.head()"
      ],
      "execution_count": null,
      "outputs": [
        {
          "output_type": "execute_result",
          "data": {
            "text/html": [
              "<div>\n",
              "<style scoped>\n",
              "    .dataframe tbody tr th:only-of-type {\n",
              "        vertical-align: middle;\n",
              "    }\n",
              "\n",
              "    .dataframe tbody tr th {\n",
              "        vertical-align: top;\n",
              "    }\n",
              "\n",
              "    .dataframe thead th {\n",
              "        text-align: right;\n",
              "    }\n",
              "</style>\n",
              "<table border=\"1\" class=\"dataframe\">\n",
              "  <thead>\n",
              "    <tr style=\"text-align: right;\">\n",
              "      <th></th>\n",
              "      <th>Date</th>\n",
              "      <th>Open</th>\n",
              "      <th>High</th>\n",
              "      <th>Low</th>\n",
              "      <th>Close</th>\n",
              "      <th>Adj Close</th>\n",
              "      <th>Volume</th>\n",
              "    </tr>\n",
              "  </thead>\n",
              "  <tbody>\n",
              "    <tr>\n",
              "      <th>0</th>\n",
              "      <td>2018-01-02</td>\n",
              "      <td>1048.339966</td>\n",
              "      <td>1066.939941</td>\n",
              "      <td>1045.229980</td>\n",
              "      <td>1065.000000</td>\n",
              "      <td>1065.000000</td>\n",
              "      <td>1237600</td>\n",
              "    </tr>\n",
              "    <tr>\n",
              "      <th>1</th>\n",
              "      <td>2018-01-03</td>\n",
              "      <td>1064.310059</td>\n",
              "      <td>1086.290039</td>\n",
              "      <td>1063.209961</td>\n",
              "      <td>1082.479980</td>\n",
              "      <td>1082.479980</td>\n",
              "      <td>1430200</td>\n",
              "    </tr>\n",
              "    <tr>\n",
              "      <th>2</th>\n",
              "      <td>2018-01-04</td>\n",
              "      <td>1088.000000</td>\n",
              "      <td>1093.569946</td>\n",
              "      <td>1084.001953</td>\n",
              "      <td>1086.400024</td>\n",
              "      <td>1086.400024</td>\n",
              "      <td>1004600</td>\n",
              "    </tr>\n",
              "    <tr>\n",
              "      <th>3</th>\n",
              "      <td>2018-01-05</td>\n",
              "      <td>1094.000000</td>\n",
              "      <td>1104.250000</td>\n",
              "      <td>1092.000000</td>\n",
              "      <td>1102.229980</td>\n",
              "      <td>1102.229980</td>\n",
              "      <td>1279100</td>\n",
              "    </tr>\n",
              "    <tr>\n",
              "      <th>4</th>\n",
              "      <td>2018-01-08</td>\n",
              "      <td>1102.229980</td>\n",
              "      <td>1111.270020</td>\n",
              "      <td>1101.619995</td>\n",
              "      <td>1106.939941</td>\n",
              "      <td>1106.939941</td>\n",
              "      <td>1047600</td>\n",
              "    </tr>\n",
              "  </tbody>\n",
              "</table>\n",
              "</div>"
            ],
            "text/plain": [
              "         Date         Open         High  ...        Close    Adj Close   Volume\n",
              "0  2018-01-02  1048.339966  1066.939941  ...  1065.000000  1065.000000  1237600\n",
              "1  2018-01-03  1064.310059  1086.290039  ...  1082.479980  1082.479980  1430200\n",
              "2  2018-01-04  1088.000000  1093.569946  ...  1086.400024  1086.400024  1004600\n",
              "3  2018-01-05  1094.000000  1104.250000  ...  1102.229980  1102.229980  1279100\n",
              "4  2018-01-08  1102.229980  1111.270020  ...  1106.939941  1106.939941  1047600\n",
              "\n",
              "[5 rows x 7 columns]"
            ]
          },
          "metadata": {
            "tags": []
          },
          "execution_count": 35
        }
      ]
    },
    {
      "cell_type": "code",
      "metadata": {
        "colab": {
          "base_uri": "https://localhost:8080/"
        },
        "id": "8rE0-HG_q0xY",
        "outputId": "61631175-dc87-4b52-c0d9-c4241b396b9e"
      },
      "source": [
        "df.info()"
      ],
      "execution_count": null,
      "outputs": [
        {
          "output_type": "stream",
          "text": [
            "<class 'pandas.core.frame.DataFrame'>\n",
            "RangeIndex: 1259 entries, 0 to 1258\n",
            "Data columns (total 7 columns):\n",
            " #   Column     Non-Null Count  Dtype  \n",
            "---  ------     --------------  -----  \n",
            " 0   Date       1259 non-null   object \n",
            " 1   Open       1259 non-null   float64\n",
            " 2   High       1259 non-null   float64\n",
            " 3   Low        1259 non-null   float64\n",
            " 4   Close      1259 non-null   float64\n",
            " 5   Adj Close  1259 non-null   float64\n",
            " 6   Volume     1259 non-null   int64  \n",
            "dtypes: float64(5), int64(1), object(1)\n",
            "memory usage: 69.0+ KB\n"
          ],
          "name": "stdout"
        }
      ]
    },
    {
      "cell_type": "code",
      "metadata": {
        "colab": {
          "base_uri": "https://localhost:8080/"
        },
        "id": "Dy88XMWD6tBW",
        "outputId": "e518232c-c2cb-4d48-d365-b3860fefcb7f"
      },
      "source": [
        "df1.info()"
      ],
      "execution_count": null,
      "outputs": [
        {
          "output_type": "stream",
          "text": [
            "<class 'pandas.core.frame.DataFrame'>\n",
            "RangeIndex: 125 entries, 0 to 124\n",
            "Data columns (total 7 columns):\n",
            " #   Column     Non-Null Count  Dtype  \n",
            "---  ------     --------------  -----  \n",
            " 0   Date       125 non-null    object \n",
            " 1   Open       125 non-null    float64\n",
            " 2   High       125 non-null    float64\n",
            " 3   Low        125 non-null    float64\n",
            " 4   Close      125 non-null    float64\n",
            " 5   Adj Close  125 non-null    float64\n",
            " 6   Volume     125 non-null    int64  \n",
            "dtypes: float64(5), int64(1), object(1)\n",
            "memory usage: 7.0+ KB\n"
          ],
          "name": "stdout"
        }
      ]
    },
    {
      "cell_type": "code",
      "metadata": {
        "colab": {
          "base_uri": "https://localhost:8080/"
        },
        "id": "GEVf09QnrtQI",
        "outputId": "1325b296-7f58-4b84-e8ea-77d68a28e342"
      },
      "source": [
        "df_train=df.iloc[:,4:5].values\n",
        "df_test=df1.iloc[:,4:5].values\n",
        "df_train"
      ],
      "execution_count": null,
      "outputs": [
        {
          "output_type": "execute_result",
          "data": {
            "text/plain": [
              "array([[ 359.288177],\n",
              "       [ 359.496826],\n",
              "       [ 366.600616],\n",
              "       ...,\n",
              "       [1049.369995],\n",
              "       [1048.140015],\n",
              "       [1046.400024]])"
            ]
          },
          "metadata": {
            "tags": []
          },
          "execution_count": 42
        }
      ]
    },
    {
      "cell_type": "code",
      "metadata": {
        "colab": {
          "base_uri": "https://localhost:8080/",
          "height": 283
        },
        "id": "P6bMVexCzsvc",
        "outputId": "504a98eb-3b3e-42aa-9162-8da1dc48914c"
      },
      "source": [
        "import matplotlib.pyplot as plt\n",
        "plt.plot(df_train)"
      ],
      "execution_count": null,
      "outputs": [
        {
          "output_type": "execute_result",
          "data": {
            "text/plain": [
              "[<matplotlib.lines.Line2D at 0x7f246b965400>]"
            ]
          },
          "metadata": {
            "tags": []
          },
          "execution_count": 38
        },
        {
          "output_type": "display_data",
          "data": {
            "image/png": "[encoded data removed]",
            "text/plain": [
              "<Figure size 432x288 with 1 Axes>"
            ]
          },
          "metadata": {
            "tags": []
          }
        }
      ]
    },
    {
      "cell_type": "markdown",
      "metadata": {
        "id": "vI9xd0ox0VXc"
      },
      "source": [
        "### LSTM is highly sensitive to scale of data"
      ]
    },
    {
      "cell_type": "code",
      "metadata": {
        "colab": {
          "base_uri": "https://localhost:8080/"
        },
        "id": "HWtyK_Zhsn1u",
        "outputId": "f9c9be75-fbce-40df-c2ef-c86d37cbe857"
      },
      "source": [
        "import numpy as np\n",
        "from sklearn import preprocessing \n",
        "  \n",
        "min_max_scaler = preprocessing.MinMaxScaler(feature_range =(0, 1)) \n",
        "  \n",
        "x_train = min_max_scaler.fit_transform(df_train)\n",
        "x_test=  min_max_scaler.fit_transform(df_test)\n",
        "x_train"
      ],
      "execution_count": null,
      "outputs": [
        {
          "output_type": "execute_result",
          "data": {
            "text/plain": [
              "array([[0.01390725],\n",
              "       [0.01419387],\n",
              "       [0.02395214],\n",
              "       ...,\n",
              "       [0.96185311],\n",
              "       [0.96016352],\n",
              "       [0.95777334]])"
            ]
          },
          "metadata": {
            "tags": []
          },
          "execution_count": 40
        }
      ]
    },
    {
      "cell_type": "code",
      "metadata": {
        "id": "wah5o_Mv7mGi"
      },
      "source": [
        "#convert an array of vaues into dataset matrix\n",
        "def create_dataset(data,timestep=1):\n",
        "  X,Y=[],[]\n",
        "  for i in range(len(data)-timestep-1):\n",
        "    a=data[i:(i+timestep),0]\n",
        "    b=data[i+timestep,0]\n",
        "    X.append(a)\n",
        "    Y.append(b)\n",
        "  return np.array(X),np.array(Y)  "
      ],
      "execution_count": null,
      "outputs": []
    },
    {
      "cell_type": "code",
      "metadata": {
        "id": "i2qWyuSO9L7e"
      },
      "source": [
        "timestep=60\n",
        "X_train,Y_train=create_dataset(x_train,timestep)\n",
        "X_test,Y_test=create_dataset(x_test,timestep)"
      ],
      "execution_count": null,
      "outputs": []
    },
    {
      "cell_type": "code",
      "metadata": {
        "colab": {
          "base_uri": "https://localhost:8080/"
        },
        "id": "zDygOobZ-Oih",
        "outputId": "2532f78b-c3fe-4296-892b-d58e852b6b3c"
      },
      "source": [
        "print(X_train.shape),print(Y_train.shape)"
      ],
      "execution_count": null,
      "outputs": [
        {
          "output_type": "stream",
          "text": [
            "(1198, 60)\n",
            "(1198,)\n"
          ],
          "name": "stdout"
        },
        {
          "output_type": "execute_result",
          "data": {
            "text/plain": [
              "(None, None)"
            ]
          },
          "metadata": {
            "tags": []
          },
          "execution_count": 52
        }
      ]
    },
    {
      "cell_type": "code",
      "metadata": {
        "colab": {
          "base_uri": "https://localhost:8080/"
        },
        "id": "e5iny6-K-pXH",
        "outputId": "c12267b6-756f-44e2-e470-562c42db84ec"
      },
      "source": [
        "X_train"
      ],
      "execution_count": null,
      "outputs": [
        {
          "output_type": "execute_result",
          "data": {
            "text/plain": [
              "array([[0.01390725, 0.01419387, 0.02395214, ..., 0.07475666, 0.06809644,\n",
              "        0.06231652],\n",
              "       [0.01419387, 0.02395214, 0.0217548 , ..., 0.06809644, 0.06231652,\n",
              "        0.06709331],\n",
              "       [0.02395214, 0.0217548 , 0.02076534, ..., 0.06231652, 0.06709331,\n",
              "        0.07517972],\n",
              "       ...,\n",
              "       [0.83786549, 0.82984329, 0.83605223, ..., 0.98325485, 0.98144168,\n",
              "        0.97662008],\n",
              "       [0.82984329, 0.83605223, 0.82765912, ..., 0.98144168, 0.97662008,\n",
              "        0.97197706],\n",
              "       [0.83605223, 0.82765912, 0.85276988, ..., 0.97662008, 0.97197706,\n",
              "        0.96185311]])"
            ]
          },
          "metadata": {
            "tags": []
          },
          "execution_count": 51
        }
      ]
    },
    {
      "cell_type": "code",
      "metadata": {
        "id": "VrMk8ywE-0WW"
      },
      "source": [
        "#reshape matrix data to be [sample,timestep,features] which is required for LSTM\n",
        "X_train=X_train.reshape(X_train.shape[0],X_train.shape[1],1)\n",
        "X_test=X_test.reshape(X_test.shape[0],X_test.shape[1],1)"
      ],
      "execution_count": null,
      "outputs": []
    },
    {
      "cell_type": "code",
      "metadata": {
        "id": "iFoldcH3AHOQ"
      },
      "source": [
        "#create the LSTM model\n",
        "from tensorflow.keras.models import Sequential \n",
        "from tensorflow.keras.layers import Dense \n",
        "from tensorflow.keras.layers import LSTM "
      ],
      "execution_count": null,
      "outputs": []
    },
    {
      "cell_type": "code",
      "metadata": {
        "id": "B9mF-sQnH6Ih"
      },
      "source": [
        "model=Sequential()\n",
        "model.add(LSTM(units=50,return_sequences=True,input_shape=(60,1)))\n",
        "model.add(LSTM(units=50,return_sequences=True))\n",
        "model.add(LSTM(units=50))\n",
        "model.add(Dense(1))\n",
        "model.compile(loss='mean_squared_error',optimizer='adam')"
      ],
      "execution_count": null,
      "outputs": []
    },
    {
      "cell_type": "code",
      "metadata": {
        "colab": {
          "base_uri": "https://localhost:8080/"
        },
        "id": "mgqLou_sKVnT",
        "outputId": "e9d6346c-bdca-4e16-f6dd-b38ff8162dd1"
      },
      "source": [
        "model.fit(X_train,Y_train,validation_data=(X_test,Y_test),epochs=100,batch_size=32)"
      ],
      "execution_count": null,
      "outputs": [
        {
          "output_type": "stream",
          "text": [
            "Epoch 1/100\n",
            "38/38 [==============================] - 9s 105ms/step - loss: 0.0647 - val_loss: 0.0571\n",
            "Epoch 2/100\n",
            "38/38 [==============================] - 3s 78ms/step - loss: 0.0014 - val_loss: 0.0564\n",
            "Epoch 3/100\n",
            "38/38 [==============================] - 3s 77ms/step - loss: 0.0011 - val_loss: 0.0551\n",
            "Epoch 4/100\n",
            "38/38 [==============================] - 3s 79ms/step - loss: 0.0011 - val_loss: 0.0551\n",
            "Epoch 5/100\n",
            "38/38 [==============================] - 3s 79ms/step - loss: 9.7300e-04 - val_loss: 0.0523\n",
            "Epoch 6/100\n",
            "38/38 [==============================] - 3s 78ms/step - loss: 9.4776e-04 - val_loss: 0.0516\n",
            "Epoch 7/100\n",
            "38/38 [==============================] - 3s 79ms/step - loss: 0.0011 - val_loss: 0.0488\n",
            "Epoch 8/100\n",
            "38/38 [==============================] - 3s 77ms/step - loss: 0.0011 - val_loss: 0.0475\n",
            "Epoch 9/100\n",
            "38/38 [==============================] - 3s 78ms/step - loss: 9.3637e-04 - val_loss: 0.0458\n",
            "Epoch 10/100\n",
            "38/38 [==============================] - 3s 78ms/step - loss: 8.2043e-04 - val_loss: 0.0441\n",
            "Epoch 11/100\n",
            "38/38 [==============================] - 3s 79ms/step - loss: 9.6840e-04 - val_loss: 0.0439\n",
            "Epoch 12/100\n",
            "38/38 [==============================] - 3s 77ms/step - loss: 9.5972e-04 - val_loss: 0.0426\n",
            "Epoch 13/100\n",
            "38/38 [==============================] - 3s 78ms/step - loss: 8.2374e-04 - val_loss: 0.0404\n",
            "Epoch 14/100\n",
            "38/38 [==============================] - 3s 79ms/step - loss: 8.2303e-04 - val_loss: 0.0401\n",
            "Epoch 15/100\n",
            "38/38 [==============================] - 3s 80ms/step - loss: 9.9334e-04 - val_loss: 0.0394\n",
            "Epoch 16/100\n",
            "38/38 [==============================] - 3s 79ms/step - loss: 6.7415e-04 - val_loss: 0.0366\n",
            "Epoch 17/100\n",
            "38/38 [==============================] - 3s 79ms/step - loss: 7.9932e-04 - val_loss: 0.0366\n",
            "Epoch 18/100\n",
            "38/38 [==============================] - 3s 82ms/step - loss: 8.0822e-04 - val_loss: 0.0345\n",
            "Epoch 19/100\n",
            "38/38 [==============================] - 3s 79ms/step - loss: 7.1335e-04 - val_loss: 0.0346\n",
            "Epoch 20/100\n",
            "38/38 [==============================] - 3s 79ms/step - loss: 8.4609e-04 - val_loss: 0.0334\n",
            "Epoch 21/100\n",
            "38/38 [==============================] - 3s 80ms/step - loss: 7.8311e-04 - val_loss: 0.0323\n",
            "Epoch 22/100\n",
            "38/38 [==============================] - 3s 79ms/step - loss: 7.0881e-04 - val_loss: 0.0318\n",
            "Epoch 23/100\n",
            "38/38 [==============================] - 3s 78ms/step - loss: 8.4860e-04 - val_loss: 0.0309\n",
            "Epoch 24/100\n",
            "38/38 [==============================] - 3s 78ms/step - loss: 6.6568e-04 - val_loss: 0.0299\n",
            "Epoch 25/100\n",
            "38/38 [==============================] - 3s 79ms/step - loss: 5.5190e-04 - val_loss: 0.0293\n",
            "Epoch 26/100\n",
            "38/38 [==============================] - 3s 79ms/step - loss: 5.5386e-04 - val_loss: 0.0284\n",
            "Epoch 27/100\n",
            "38/38 [==============================] - 3s 82ms/step - loss: 6.1068e-04 - val_loss: 0.0281\n",
            "Epoch 28/100\n",
            "38/38 [==============================] - 3s 81ms/step - loss: 6.3165e-04 - val_loss: 0.0273\n",
            "Epoch 29/100\n",
            "38/38 [==============================] - 3s 82ms/step - loss: 6.5529e-04 - val_loss: 0.0268\n",
            "Epoch 30/100\n",
            "38/38 [==============================] - 3s 78ms/step - loss: 5.6686e-04 - val_loss: 0.0250\n",
            "Epoch 31/100\n",
            "38/38 [==============================] - 3s 78ms/step - loss: 5.8107e-04 - val_loss: 0.0244\n",
            "Epoch 32/100\n",
            "38/38 [==============================] - 3s 79ms/step - loss: 4.2737e-04 - val_loss: 0.0239\n",
            "Epoch 33/100\n",
            "38/38 [==============================] - 3s 79ms/step - loss: 4.0941e-04 - val_loss: 0.0231\n",
            "Epoch 34/100\n",
            "38/38 [==============================] - 3s 78ms/step - loss: 5.7184e-04 - val_loss: 0.0223\n",
            "Epoch 35/100\n",
            "38/38 [==============================] - 3s 79ms/step - loss: 6.1483e-04 - val_loss: 0.0217\n",
            "Epoch 36/100\n",
            "38/38 [==============================] - 3s 80ms/step - loss: 4.5388e-04 - val_loss: 0.0211\n",
            "Epoch 37/100\n",
            "38/38 [==============================] - 3s 79ms/step - loss: 4.8091e-04 - val_loss: 0.0204\n",
            "Epoch 38/100\n",
            "38/38 [==============================] - 3s 78ms/step - loss: 3.6510e-04 - val_loss: 0.0200\n",
            "Epoch 39/100\n",
            "38/38 [==============================] - 3s 80ms/step - loss: 4.2708e-04 - val_loss: 0.0190\n",
            "Epoch 40/100\n",
            "38/38 [==============================] - 3s 79ms/step - loss: 3.8595e-04 - val_loss: 0.0184\n",
            "Epoch 41/100\n",
            "38/38 [==============================] - 3s 79ms/step - loss: 3.1080e-04 - val_loss: 0.0179\n",
            "Epoch 42/100\n",
            "38/38 [==============================] - 3s 79ms/step - loss: 3.6325e-04 - val_loss: 0.0173\n",
            "Epoch 43/100\n",
            "38/38 [==============================] - 3s 79ms/step - loss: 3.7902e-04 - val_loss: 0.0169\n",
            "Epoch 44/100\n",
            "38/38 [==============================] - 3s 78ms/step - loss: 3.7648e-04 - val_loss: 0.0162\n",
            "Epoch 45/100\n",
            "38/38 [==============================] - 3s 79ms/step - loss: 3.9134e-04 - val_loss: 0.0158\n",
            "Epoch 46/100\n",
            "38/38 [==============================] - 3s 79ms/step - loss: 2.7864e-04 - val_loss: 0.0153\n",
            "Epoch 47/100\n",
            "38/38 [==============================] - 3s 80ms/step - loss: 3.2337e-04 - val_loss: 0.0150\n",
            "Epoch 48/100\n",
            "38/38 [==============================] - 3s 78ms/step - loss: 2.9933e-04 - val_loss: 0.0143\n",
            "Epoch 49/100\n",
            "38/38 [==============================] - 3s 80ms/step - loss: 3.1064e-04 - val_loss: 0.0139\n",
            "Epoch 50/100\n",
            "38/38 [==============================] - 3s 78ms/step - loss: 3.1827e-04 - val_loss: 0.0137\n",
            "Epoch 51/100\n",
            "38/38 [==============================] - 3s 79ms/step - loss: 3.7724e-04 - val_loss: 0.0135\n",
            "Epoch 52/100\n",
            "38/38 [==============================] - 3s 79ms/step - loss: 2.9488e-04 - val_loss: 0.0129\n",
            "Epoch 53/100\n",
            "38/38 [==============================] - 3s 78ms/step - loss: 2.9639e-04 - val_loss: 0.0126\n",
            "Epoch 54/100\n",
            "38/38 [==============================] - 3s 79ms/step - loss: 3.2092e-04 - val_loss: 0.0123\n",
            "Epoch 55/100\n",
            "38/38 [==============================] - 3s 79ms/step - loss: 2.8606e-04 - val_loss: 0.0120\n",
            "Epoch 56/100\n",
            "38/38 [==============================] - 3s 79ms/step - loss: 2.6874e-04 - val_loss: 0.0118\n",
            "Epoch 57/100\n",
            "38/38 [==============================] - 3s 79ms/step - loss: 2.7669e-04 - val_loss: 0.0115\n",
            "Epoch 58/100\n",
            "38/38 [==============================] - 3s 80ms/step - loss: 2.8405e-04 - val_loss: 0.0113\n",
            "Epoch 59/100\n",
            "38/38 [==============================] - 3s 79ms/step - loss: 2.4403e-04 - val_loss: 0.0110\n",
            "Epoch 60/100\n",
            "38/38 [==============================] - 3s 79ms/step - loss: 2.5986e-04 - val_loss: 0.0111\n",
            "Epoch 61/100\n",
            "38/38 [==============================] - 3s 78ms/step - loss: 2.4919e-04 - val_loss: 0.0108\n",
            "Epoch 62/100\n",
            "38/38 [==============================] - 3s 79ms/step - loss: 2.5878e-04 - val_loss: 0.0102\n",
            "Epoch 63/100\n",
            "38/38 [==============================] - 3s 78ms/step - loss: 2.4411e-04 - val_loss: 0.0101\n",
            "Epoch 64/100\n",
            "38/38 [==============================] - 3s 77ms/step - loss: 2.6066e-04 - val_loss: 0.0097\n",
            "Epoch 65/100\n",
            "38/38 [==============================] - 3s 79ms/step - loss: 2.2552e-04 - val_loss: 0.0094\n",
            "Epoch 66/100\n",
            "38/38 [==============================] - 3s 79ms/step - loss: 2.8039e-04 - val_loss: 0.0092\n",
            "Epoch 67/100\n",
            "38/38 [==============================] - 3s 78ms/step - loss: 3.3429e-04 - val_loss: 0.0092\n",
            "Epoch 68/100\n",
            "38/38 [==============================] - 3s 78ms/step - loss: 1.9715e-04 - val_loss: 0.0093\n",
            "Epoch 69/100\n",
            "38/38 [==============================] - 3s 80ms/step - loss: 2.8309e-04 - val_loss: 0.0088\n",
            "Epoch 70/100\n",
            "38/38 [==============================] - 3s 79ms/step - loss: 2.2242e-04 - val_loss: 0.0088\n",
            "Epoch 71/100\n",
            "38/38 [==============================] - 3s 79ms/step - loss: 2.2580e-04 - val_loss: 0.0086\n",
            "Epoch 72/100\n",
            "38/38 [==============================] - 3s 78ms/step - loss: 1.8307e-04 - val_loss: 0.0085\n",
            "Epoch 73/100\n",
            "38/38 [==============================] - 3s 79ms/step - loss: 2.1635e-04 - val_loss: 0.0085\n",
            "Epoch 74/100\n",
            "38/38 [==============================] - 3s 79ms/step - loss: 2.1007e-04 - val_loss: 0.0084\n",
            "Epoch 75/100\n",
            "38/38 [==============================] - 3s 79ms/step - loss: 2.9682e-04 - val_loss: 0.0080\n",
            "Epoch 76/100\n",
            "38/38 [==============================] - 3s 79ms/step - loss: 1.8445e-04 - val_loss: 0.0080\n",
            "Epoch 77/100\n",
            "38/38 [==============================] - 3s 80ms/step - loss: 1.7961e-04 - val_loss: 0.0081\n",
            "Epoch 78/100\n",
            "38/38 [==============================] - 3s 79ms/step - loss: 2.4175e-04 - val_loss: 0.0077\n",
            "Epoch 79/100\n",
            "38/38 [==============================] - 3s 81ms/step - loss: 1.8805e-04 - val_loss: 0.0079\n",
            "Epoch 80/100\n",
            "38/38 [==============================] - 3s 79ms/step - loss: 1.9383e-04 - val_loss: 0.0077\n",
            "Epoch 81/100\n",
            "38/38 [==============================] - 3s 81ms/step - loss: 2.0121e-04 - val_loss: 0.0078\n",
            "Epoch 82/100\n",
            "38/38 [==============================] - 3s 83ms/step - loss: 2.2931e-04 - val_loss: 0.0077\n",
            "Epoch 83/100\n",
            "38/38 [==============================] - 3s 85ms/step - loss: 2.2432e-04 - val_loss: 0.0075\n",
            "Epoch 84/100\n",
            "38/38 [==============================] - 3s 79ms/step - loss: 1.8621e-04 - val_loss: 0.0076\n",
            "Epoch 85/100\n",
            "38/38 [==============================] - 3s 79ms/step - loss: 1.8572e-04 - val_loss: 0.0074\n",
            "Epoch 86/100\n",
            "38/38 [==============================] - 3s 79ms/step - loss: 2.1162e-04 - val_loss: 0.0075\n",
            "Epoch 87/100\n",
            "38/38 [==============================] - 3s 79ms/step - loss: 1.8337e-04 - val_loss: 0.0075\n",
            "Epoch 88/100\n",
            "38/38 [==============================] - 3s 77ms/step - loss: 2.3377e-04 - val_loss: 0.0075\n",
            "Epoch 89/100\n",
            "38/38 [==============================] - 3s 80ms/step - loss: 2.3508e-04 - val_loss: 0.0075\n",
            "Epoch 90/100\n",
            "38/38 [==============================] - 3s 80ms/step - loss: 1.7708e-04 - val_loss: 0.0075\n",
            "Epoch 91/100\n",
            "38/38 [==============================] - 3s 79ms/step - loss: 2.2407e-04 - val_loss: 0.0072\n",
            "Epoch 92/100\n",
            "38/38 [==============================] - 3s 80ms/step - loss: 2.4785e-04 - val_loss: 0.0073\n",
            "Epoch 93/100\n",
            "38/38 [==============================] - 3s 80ms/step - loss: 1.8358e-04 - val_loss: 0.0072\n",
            "Epoch 94/100\n",
            "38/38 [==============================] - 3s 79ms/step - loss: 1.9584e-04 - val_loss: 0.0074\n",
            "Epoch 95/100\n",
            "38/38 [==============================] - 3s 80ms/step - loss: 1.6087e-04 - val_loss: 0.0074\n",
            "Epoch 96/100\n",
            "38/38 [==============================] - 3s 80ms/step - loss: 1.7041e-04 - val_loss: 0.0075\n",
            "Epoch 97/100\n",
            "38/38 [==============================] - 3s 80ms/step - loss: 2.1434e-04 - val_loss: 0.0073\n",
            "Epoch 98/100\n",
            "38/38 [==============================] - 3s 80ms/step - loss: 1.6979e-04 - val_loss: 0.0074\n",
            "Epoch 99/100\n",
            "38/38 [==============================] - 3s 79ms/step - loss: 1.6203e-04 - val_loss: 0.0073\n",
            "Epoch 100/100\n",
            "38/38 [==============================] - 3s 79ms/step - loss: 1.6129e-04 - val_loss: 0.0073\n"
          ],
          "name": "stdout"
        },
        {
          "output_type": "execute_result",
          "data": {
            "text/plain": [
              "<tensorflow.python.keras.callbacks.History at 0x7f246621fb00>"
            ]
          },
          "metadata": {
            "tags": []
          },
          "execution_count": 62
        }
      ]
    },
    {
      "cell_type": "code",
      "metadata": {
        "colab": {
          "base_uri": "https://localhost:8080/"
        },
        "id": "IQE3wDpLWFpL",
        "outputId": "70d827a7-2eea-4951-f2a7-073ca2955a33"
      },
      "source": [
        "total_data=pd.concat((df['Close'],df1['Close']),axis=0)\n",
        "total_data"
      ],
      "execution_count": null,
      "outputs": [
        {
          "output_type": "execute_result",
          "data": {
            "text/plain": [
              "0       359.288177\n",
              "1       359.496826\n",
              "2       366.600616\n",
              "3       365.001007\n",
              "4       364.280701\n",
              "          ...     \n",
              "120    1124.810059\n",
              "121    1118.459961\n",
              "122    1103.979980\n",
              "123    1114.219971\n",
              "124    1115.650024\n",
              "Name: Close, Length: 1384, dtype: float64"
            ]
          },
          "metadata": {
            "tags": []
          },
          "execution_count": 77
        }
      ]
    },
    {
      "cell_type": "code",
      "metadata": {
        "colab": {
          "base_uri": "https://localhost:8080/"
        },
        "id": "NzK334tiWw1D",
        "outputId": "d0a4cd4a-6de1-4feb-cf26-85f397199f95"
      },
      "source": [
        "X_test=total_data[len(total_data)-len(df_test)-60:].values\n",
        "X_test"
      ],
      "execution_count": null,
      "outputs": [
        {
          "output_type": "execute_result",
          "data": {
            "text/plain": [
              "array([ 969.960022,  978.890015,  977.      ,  972.599976,  989.25    ,\n",
              "        987.830017,  989.679993,  992.      ,  992.179993,  992.809998,\n",
              "        984.450012,  988.200012,  968.450012,  970.539978,  973.330017,\n",
              "        972.559998, 1019.27002 , 1017.109985, 1016.640015, 1025.5     ,\n",
              "       1025.579956, 1032.47998 , 1025.900024, 1033.329956, 1039.849976,\n",
              "       1031.26001 , 1028.069946, 1025.75    , 1026.      , 1020.909973,\n",
              "       1032.5     , 1019.090027, 1018.380005, 1034.48999 , 1035.959961,\n",
              "       1040.609985, 1054.209961, 1047.410034, 1021.659973, 1021.409973,\n",
              "       1010.169983,  998.679993, 1005.150024, 1018.380005, 1030.930054,\n",
              "       1037.050049, 1041.099976, 1040.47998 , 1040.609985, 1049.150024,\n",
              "       1064.189941, 1077.140015, 1070.680054, 1064.949951, 1063.630005,\n",
              "       1060.119995, 1056.73999 , 1049.369995, 1048.140015, 1046.400024,\n",
              "       1065.      , 1082.47998 , 1086.400024, 1102.22998 , 1106.939941,\n",
              "       1106.26001 , 1102.609985, 1105.52002 , 1122.26001 , 1121.76001 ,\n",
              "       1131.97998 , 1129.790039, 1137.51001 , 1155.810059, 1169.969971,\n",
              "       1164.23999 , 1170.369995, 1175.839966, 1175.579956, 1163.689941,\n",
              "       1169.939941, 1167.699951, 1111.900024, 1055.800049, 1080.599976,\n",
              "       1048.579956, 1001.52002 , 1037.780029, 1051.939941, 1052.099976,\n",
              "       1069.699951, 1089.52002 , 1094.800049, 1102.459961, 1111.339966,\n",
              "       1106.630005, 1126.790039, 1143.75    , 1118.290039, 1104.72998 ,\n",
              "       1069.52002 , 1078.920044, 1090.930054, 1095.060059, 1109.640015,\n",
              "       1126.      , 1160.040039, 1164.5     , 1138.170044, 1149.48999 ,\n",
              "       1149.579956, 1135.72998 , 1099.819946, 1097.709961, 1090.880005,\n",
              "       1049.079956, 1021.570007, 1053.209961, 1005.099976, 1004.559998,\n",
              "       1031.790039, 1006.469971, 1013.409973, 1025.140015, 1027.810059,\n",
              "       1007.039978, 1015.450012, 1031.640015, 1019.969971, 1032.51001 ,\n",
              "       1029.27002 , 1037.97998 , 1074.160034, 1072.079956, 1087.699951,\n",
              "       1072.959961, 1067.449951, 1019.97998 , 1021.179993, 1040.040039,\n",
              "       1030.050049, 1017.330017, 1037.310059, 1024.380005, 1023.719971,\n",
              "       1048.209961, 1054.790039, 1053.910034, 1082.76001 , 1097.569946,\n",
              "       1098.26001 , 1100.199951, 1079.22998 , 1081.77002 , 1078.589966,\n",
              "       1066.359985, 1079.579956, 1069.72998 , 1079.689941, 1079.23999 ,\n",
              "       1075.660034, 1060.319946, 1067.800049, 1084.98999 , 1119.5     ,\n",
              "       1139.290039, 1139.660034, 1136.880005, 1123.859985, 1120.869995,\n",
              "       1129.98999 , 1139.319946, 1134.790039, 1152.119995, 1152.26001 ,\n",
              "       1173.459961, 1168.060059, 1169.839966, 1157.660034, 1155.47998 ,\n",
              "       1124.810059, 1118.459961, 1103.97998 , 1114.219971, 1115.650024])"
            ]
          },
          "metadata": {
            "tags": []
          },
          "execution_count": 106
        }
      ]
    },
    {
      "cell_type": "code",
      "metadata": {
        "colab": {
          "base_uri": "https://localhost:8080/"
        },
        "id": "aChmv2JyYYAQ",
        "outputId": "f37a2c61-89db-4f2e-a46e-204d23204ad9"
      },
      "source": [
        "X_test=X_test.reshape(-1,1)\n",
        "X_test\n"
      ],
      "execution_count": null,
      "outputs": [
        {
          "output_type": "execute_result",
          "data": {
            "text/plain": [
              "array([[ 969.960022],\n",
              "       [ 978.890015],\n",
              "       [ 977.      ],\n",
              "       [ 972.599976],\n",
              "       [ 989.25    ],\n",
              "       [ 987.830017],\n",
              "       [ 989.679993],\n",
              "       [ 992.      ],\n",
              "       [ 992.179993],\n",
              "       [ 992.809998],\n",
              "       [ 984.450012],\n",
              "       [ 988.200012],\n",
              "       [ 968.450012],\n",
              "       [ 970.539978],\n",
              "       [ 973.330017],\n",
              "       [ 972.559998],\n",
              "       [1019.27002 ],\n",
              "       [1017.109985],\n",
              "       [1016.640015],\n",
              "       [1025.5     ],\n",
              "       [1025.579956],\n",
              "       [1032.47998 ],\n",
              "       [1025.900024],\n",
              "       [1033.329956],\n",
              "       [1039.849976],\n",
              "       [1031.26001 ],\n",
              "       [1028.069946],\n",
              "       [1025.75    ],\n",
              "       [1026.      ],\n",
              "       [1020.909973],\n",
              "       [1032.5     ],\n",
              "       [1019.090027],\n",
              "       [1018.380005],\n",
              "       [1034.48999 ],\n",
              "       [1035.959961],\n",
              "       [1040.609985],\n",
              "       [1054.209961],\n",
              "       [1047.410034],\n",
              "       [1021.659973],\n",
              "       [1021.409973],\n",
              "       [1010.169983],\n",
              "       [ 998.679993],\n",
              "       [1005.150024],\n",
              "       [1018.380005],\n",
              "       [1030.930054],\n",
              "       [1037.050049],\n",
              "       [1041.099976],\n",
              "       [1040.47998 ],\n",
              "       [1040.609985],\n",
              "       [1049.150024],\n",
              "       [1064.189941],\n",
              "       [1077.140015],\n",
              "       [1070.680054],\n",
              "       [1064.949951],\n",
              "       [1063.630005],\n",
              "       [1060.119995],\n",
              "       [1056.73999 ],\n",
              "       [1049.369995],\n",
              "       [1048.140015],\n",
              "       [1046.400024],\n",
              "       [1065.      ],\n",
              "       [1082.47998 ],\n",
              "       [1086.400024],\n",
              "       [1102.22998 ],\n",
              "       [1106.939941],\n",
              "       [1106.26001 ],\n",
              "       [1102.609985],\n",
              "       [1105.52002 ],\n",
              "       [1122.26001 ],\n",
              "       [1121.76001 ],\n",
              "       [1131.97998 ],\n",
              "       [1129.790039],\n",
              "       [1137.51001 ],\n",
              "       [1155.810059],\n",
              "       [1169.969971],\n",
              "       [1164.23999 ],\n",
              "       [1170.369995],\n",
              "       [1175.839966],\n",
              "       [1175.579956],\n",
              "       [1163.689941],\n",
              "       [1169.939941],\n",
              "       [1167.699951],\n",
              "       [1111.900024],\n",
              "       [1055.800049],\n",
              "       [1080.599976],\n",
              "       [1048.579956],\n",
              "       [1001.52002 ],\n",
              "       [1037.780029],\n",
              "       [1051.939941],\n",
              "       [1052.099976],\n",
              "       [1069.699951],\n",
              "       [1089.52002 ],\n",
              "       [1094.800049],\n",
              "       [1102.459961],\n",
              "       [1111.339966],\n",
              "       [1106.630005],\n",
              "       [1126.790039],\n",
              "       [1143.75    ],\n",
              "       [1118.290039],\n",
              "       [1104.72998 ],\n",
              "       [1069.52002 ],\n",
              "       [1078.920044],\n",
              "       [1090.930054],\n",
              "       [1095.060059],\n",
              "       [1109.640015],\n",
              "       [1126.      ],\n",
              "       [1160.040039],\n",
              "       [1164.5     ],\n",
              "       [1138.170044],\n",
              "       [1149.48999 ],\n",
              "       [1149.579956],\n",
              "       [1135.72998 ],\n",
              "       [1099.819946],\n",
              "       [1097.709961],\n",
              "       [1090.880005],\n",
              "       [1049.079956],\n",
              "       [1021.570007],\n",
              "       [1053.209961],\n",
              "       [1005.099976],\n",
              "       [1004.559998],\n",
              "       [1031.790039],\n",
              "       [1006.469971],\n",
              "       [1013.409973],\n",
              "       [1025.140015],\n",
              "       [1027.810059],\n",
              "       [1007.039978],\n",
              "       [1015.450012],\n",
              "       [1031.640015],\n",
              "       [1019.969971],\n",
              "       [1032.51001 ],\n",
              "       [1029.27002 ],\n",
              "       [1037.97998 ],\n",
              "       [1074.160034],\n",
              "       [1072.079956],\n",
              "       [1087.699951],\n",
              "       [1072.959961],\n",
              "       [1067.449951],\n",
              "       [1019.97998 ],\n",
              "       [1021.179993],\n",
              "       [1040.040039],\n",
              "       [1030.050049],\n",
              "       [1017.330017],\n",
              "       [1037.310059],\n",
              "       [1024.380005],\n",
              "       [1023.719971],\n",
              "       [1048.209961],\n",
              "       [1054.790039],\n",
              "       [1053.910034],\n",
              "       [1082.76001 ],\n",
              "       [1097.569946],\n",
              "       [1098.26001 ],\n",
              "       [1100.199951],\n",
              "       [1079.22998 ],\n",
              "       [1081.77002 ],\n",
              "       [1078.589966],\n",
              "       [1066.359985],\n",
              "       [1079.579956],\n",
              "       [1069.72998 ],\n",
              "       [1079.689941],\n",
              "       [1079.23999 ],\n",
              "       [1075.660034],\n",
              "       [1060.319946],\n",
              "       [1067.800049],\n",
              "       [1084.98999 ],\n",
              "       [1119.5     ],\n",
              "       [1139.290039],\n",
              "       [1139.660034],\n",
              "       [1136.880005],\n",
              "       [1123.859985],\n",
              "       [1120.869995],\n",
              "       [1129.98999 ],\n",
              "       [1139.319946],\n",
              "       [1134.790039],\n",
              "       [1152.119995],\n",
              "       [1152.26001 ],\n",
              "       [1173.459961],\n",
              "       [1168.060059],\n",
              "       [1169.839966],\n",
              "       [1157.660034],\n",
              "       [1155.47998 ],\n",
              "       [1124.810059],\n",
              "       [1118.459961],\n",
              "       [1103.97998 ],\n",
              "       [1114.219971],\n",
              "       [1115.650024]])"
            ]
          },
          "metadata": {
            "tags": []
          },
          "execution_count": 107
        }
      ]
    },
    {
      "cell_type": "code",
      "metadata": {
        "colab": {
          "base_uri": "https://localhost:8080/"
        },
        "id": "UImgYEykaVTm",
        "outputId": "375c76b5-f71a-4a16-da68-676e32b16281"
      },
      "source": [
        "X_test=min_max_scaler.fit_transform(X_test)\n",
        "X_test"
      ],
      "execution_count": null,
      "outputs": [
        {
          "output_type": "execute_result",
          "data": {
            "text/plain": [
              "array([[0.00728102],\n",
              "       [0.05033996],\n",
              "       [0.04122663],\n",
              "       [0.02001044],\n",
              "       [0.1002941 ],\n",
              "       [0.09344717],\n",
              "       [0.10236745],\n",
              "       [0.11355414],\n",
              "       [0.11442204],\n",
              "       [0.11745982],\n",
              "       [0.07714935],\n",
              "       [0.09523123],\n",
              "       [0.        ],\n",
              "       [0.01007747],\n",
              "       [0.02353058],\n",
              "       [0.01981767],\n",
              "       [0.24504566],\n",
              "       [0.23463033],\n",
              "       [0.23236421],\n",
              "       [0.27508559],\n",
              "       [0.27547113],\n",
              "       [0.3087419 ],\n",
              "       [0.27701444],\n",
              "       [0.31284034],\n",
              "       [0.3442788 ],\n",
              "       [0.3028594 ],\n",
              "       [0.28747744],\n",
              "       [0.27629105],\n",
              "       [0.27749651],\n",
              "       [0.25295324],\n",
              "       [0.30883843],\n",
              "       [0.24417776],\n",
              "       [0.24075415],\n",
              "       [0.31843383],\n",
              "       [0.32552179],\n",
              "       [0.34794344],\n",
              "       [0.41352027],\n",
              "       [0.38073214],\n",
              "       [0.25656962],\n",
              "       [0.25536416],\n",
              "       [0.20116679],\n",
              "       [0.14576396],\n",
              "       [0.17696138],\n",
              "       [0.24075415],\n",
              "       [0.30126841],\n",
              "       [0.33077801],\n",
              "       [0.35030609],\n",
              "       [0.34731657],\n",
              "       [0.34794344],\n",
              "       [0.38912209],\n",
              "       [0.46164208],\n",
              "       [0.52408519],\n",
              "       [0.49293633],\n",
              "       [0.46530672],\n",
              "       [0.45894216],\n",
              "       [0.44201747],\n",
              "       [0.42571965],\n",
              "       [0.39018275],\n",
              "       [0.38425199],\n",
              "       [0.37586204],\n",
              "       [0.46554805],\n",
              "       [0.54983361],\n",
              "       [0.56873542],\n",
              "       [0.64506484],\n",
              "       [0.66777549],\n",
              "       [0.66449698],\n",
              "       [0.64689716],\n",
              "       [0.66092887],\n",
              "       [0.74164633],\n",
              "       [0.73923541],\n",
              "       [0.78851441],\n",
              "       [0.77795488],\n",
              "       [0.8151793 ],\n",
              "       [0.90341911],\n",
              "       [0.97169586],\n",
              "       [0.94406684],\n",
              "       [0.97362471],\n",
              "       [1.        ],\n",
              "       [0.99874627],\n",
              "       [0.94141459],\n",
              "       [0.97155106],\n",
              "       [0.9607502 ],\n",
              "       [0.69169219],\n",
              "       [0.42118741],\n",
              "       [0.54076855],\n",
              "       [0.38637331],\n",
              "       [0.1594581 ],\n",
              "       [0.33429786],\n",
              "       [0.40257461],\n",
              "       [0.40334627],\n",
              "       [0.48821043],\n",
              "       [0.58377952],\n",
              "       [0.60923895],\n",
              "       [0.64617377],\n",
              "       [0.68899169],\n",
              "       [0.66628103],\n",
              "       [0.76348938],\n",
              "       [0.8452675 ],\n",
              "       [0.72250379],\n",
              "       [0.65711943],\n",
              "       [0.48734283],\n",
              "       [0.53266819],\n",
              "       [0.59057847],\n",
              "       [0.61049267],\n",
              "       [0.6807948 ],\n",
              "       [0.75967994],\n",
              "       [0.92381537],\n",
              "       [0.94532056],\n",
              "       [0.81836188],\n",
              "       [0.87294478],\n",
              "       [0.87337858],\n",
              "       [0.80659629],\n",
              "       [0.63344406],\n",
              "       [0.62327006],\n",
              "       [0.59033714],\n",
              "       [0.38878423],\n",
              "       [0.25613582],\n",
              "       [0.40869843],\n",
              "       [0.17672005],\n",
              "       [0.17411637],\n",
              "       [0.30541512],\n",
              "       [0.18332594],\n",
              "       [0.21678948],\n",
              "       [0.2733498 ],\n",
              "       [0.28622431],\n",
              "       [0.18607442],\n",
              "       [0.22662621],\n",
              "       [0.30469173],\n",
              "       [0.24842071],\n",
              "       [0.3088867 ],\n",
              "       [0.293264  ],\n",
              "       [0.33526199],\n",
              "       [0.50971621],\n",
              "       [0.49968642],\n",
              "       [0.57500345],\n",
              "       [0.50392966],\n",
              "       [0.4773613 ],\n",
              "       [0.24846897],\n",
              "       [0.25425523],\n",
              "       [0.34519525],\n",
              "       [0.29702517],\n",
              "       [0.23569129],\n",
              "       [0.33203174],\n",
              "       [0.26968516],\n",
              "       [0.26650259],\n",
              "       [0.38458926],\n",
              "       [0.41631731],\n",
              "       [0.41207407],\n",
              "       [0.55118387],\n",
              "       [0.62259493],\n",
              "       [0.6259223 ],\n",
              "       [0.63527638],\n",
              "       [0.53416265],\n",
              "       [0.5464103 ],\n",
              "       [0.53107661],\n",
              "       [0.47210567],\n",
              "       [0.53585018],\n",
              "       [0.48835523],\n",
              "       [0.53638051],\n",
              "       [0.53421092],\n",
              "       [0.51694896],\n",
              "       [0.4429816 ],\n",
              "       [0.47904942],\n",
              "       [0.56193647],\n",
              "       [0.72833802],\n",
              "       [0.82376231],\n",
              "       [0.82554636],\n",
              "       [0.81214152],\n",
              "       [0.74936114],\n",
              "       [0.73494391],\n",
              "       [0.77891901],\n",
              "       [0.82390651],\n",
              "       [0.80206405],\n",
              "       [0.88562623],\n",
              "       [0.88630136],\n",
              "       [0.98852401],\n",
              "       [0.96248658],\n",
              "       [0.97106899],\n",
              "       [0.91233938],\n",
              "       [0.90182752],\n",
              "       [0.75394224],\n",
              "       [0.72332312],\n",
              "       [0.65350305],\n",
              "       [0.70287859],\n",
              "       [0.70977407]])"
            ]
          },
          "metadata": {
            "tags": []
          },
          "execution_count": 108
        }
      ]
    },
    {
      "cell_type": "code",
      "metadata": {
        "colab": {
          "base_uri": "https://localhost:8080/"
        },
        "id": "Mcv3imSYZH2M",
        "outputId": "3e4f7e4e-ae35-44d3-a1c5-a5fb715881d1"
      },
      "source": [
        "X_test,Y_test=create_dataset(X_test,60)\n",
        "X_test.shape"
      ],
      "execution_count": null,
      "outputs": [
        {
          "output_type": "execute_result",
          "data": {
            "text/plain": [
              "(124, 60)"
            ]
          },
          "metadata": {
            "tags": []
          },
          "execution_count": 109
        }
      ]
    },
    {
      "cell_type": "code",
      "metadata": {
        "id": "V_0q1-E2ZXGm"
      },
      "source": [
        "X_test=X_test.reshape(X_test.shape[0],X_test.shape[1],1)"
      ],
      "execution_count": null,
      "outputs": []
    },
    {
      "cell_type": "code",
      "metadata": {
        "id": "WY_evHrYMb7f"
      },
      "source": [
        "#lets predict\n",
        "test_predict=model.predict(X_test)"
      ],
      "execution_count": null,
      "outputs": []
    },
    {
      "cell_type": "code",
      "metadata": {
        "id": "1Ak2M6AoQ3bz"
      },
      "source": [
        "#transform back to original scale\n",
        "test_predict=min_max_scaler.inverse_transform(test_predict)"
      ],
      "execution_count": null,
      "outputs": []
    },
    {
      "cell_type": "code",
      "metadata": {
        "colab": {
          "base_uri": "https://localhost:8080/"
        },
        "id": "_1vCZUCJRaWm",
        "outputId": "804914ff-5130-49da-936e-d14bc60c3bec"
      },
      "source": [
        "test_predict"
      ],
      "execution_count": null,
      "outputs": [
        {
          "output_type": "execute_result",
          "data": {
            "text/plain": [
              "array([[1047.8627 ],\n",
              "       [1064.6876 ],\n",
              "       [1084.3204 ],\n",
              "       [1088.6301 ],\n",
              "       [1102.0623 ],\n",
              "       [1106.1531 ],\n",
              "       [1104.4856 ],\n",
              "       [1101.0345 ],\n",
              "       [1105.3112 ],\n",
              "       [1123.2205 ],\n",
              "       [1120.593  ],\n",
              "       [1132.0046 ],\n",
              "       [1128.4106 ],\n",
              "       [1138.2539 ],\n",
              "       [1156.4298 ],\n",
              "       [1167.4674 ],\n",
              "       [1159.8016 ],\n",
              "       [1170.9377 ],\n",
              "       [1175.1018 ],\n",
              "       [1174.3756 ],\n",
              "       [1162.136  ],\n",
              "       [1174.6887 ],\n",
              "       [1167.4368 ],\n",
              "       [1097.3279 ],\n",
              "       [1057.5771 ],\n",
              "       [1094.4453 ],\n",
              "       [1053.4071 ],\n",
              "       [1015.17834],\n",
              "       [1034.4622 ],\n",
              "       [1054.132  ],\n",
              "       [1059.6248 ],\n",
              "       [1073.852  ],\n",
              "       [1093.6628 ],\n",
              "       [1098.9761 ],\n",
              "       [1103.4365 ],\n",
              "       [1110.7628 ],\n",
              "       [1105.1615 ],\n",
              "       [1125.9691 ],\n",
              "       [1142.224  ],\n",
              "       [1112.9158 ],\n",
              "       [1105.0262 ],\n",
              "       [1068.6478 ],\n",
              "       [1085.1803 ],\n",
              "       [1098.1368 ],\n",
              "       [1100.2792 ],\n",
              "       [1114.3094 ],\n",
              "       [1129.624  ],\n",
              "       [1160.7166 ],\n",
              "       [1160.6656 ],\n",
              "       [1133.0891 ],\n",
              "       [1155.293  ],\n",
              "       [1151.0284 ],\n",
              "       [1135.5016 ],\n",
              "       [1096.6749 ],\n",
              "       [1106.2565 ],\n",
              "       [1096.2616 ],\n",
              "       [1049.638  ],\n",
              "       [1029.7856 ],\n",
              "       [1053.8367 ],\n",
              "       [1021.372  ],\n",
              "       [1012.86865],\n",
              "       [1026.5978 ],\n",
              "       [1019.7943 ],\n",
              "       [1018.14276],\n",
              "       [1024.9363 ],\n",
              "       [1031.0127 ],\n",
              "       [1019.45197],\n",
              "       [1016.94855],\n",
              "       [1027.1509 ],\n",
              "       [1026.078  ],\n",
              "       [1031.6136 ],\n",
              "       [1032.3662 ],\n",
              "       [1037.7479 ],\n",
              "       [1067.9589 ],\n",
              "       [1077.0095 ],\n",
              "       [1087.8955 ],\n",
              "       [1074.049  ],\n",
              "       [1066.5182 ],\n",
              "       [1023.4087 ],\n",
              "       [1021.16437],\n",
              "       [1037.7609 ],\n",
              "       [1036.7616 ],\n",
              "       [1025.1067 ],\n",
              "       [1035.6152 ],\n",
              "       [1031.5204 ],\n",
              "       [1027.8242 ],\n",
              "       [1044.7592 ],\n",
              "       [1057.8134 ],\n",
              "       [1058.2285 ],\n",
              "       [1080.9797 ],\n",
              "       [1098.3809 ],\n",
              "       [1097.8738 ],\n",
              "       [1098.0557 ],\n",
              "       [1076.54   ],\n",
              "       [1081.2416 ],\n",
              "       [1079.7218 ],\n",
              "       [1067.2668 ],\n",
              "       [1081.3646 ],\n",
              "       [1072.2133 ],\n",
              "       [1081.569  ],\n",
              "       [1081.645  ],\n",
              "       [1077.2341 ],\n",
              "       [1061.4562 ],\n",
              "       [1068.8634 ],\n",
              "       [1087.1675 ],\n",
              "       [1121.0345 ],\n",
              "       [1138.3402 ],\n",
              "       [1135.4894 ],\n",
              "       [1133.5145 ],\n",
              "       [1121.2949 ],\n",
              "       [1122.1278 ],\n",
              "       [1133.0338 ],\n",
              "       [1140.7794 ],\n",
              "       [1133.5614 ],\n",
              "       [1154.9622 ],\n",
              "       [1150.4839 ],\n",
              "       [1174.7032 ],\n",
              "       [1163.4672 ],\n",
              "       [1170.5476 ],\n",
              "       [1155.8553 ],\n",
              "       [1159.1427 ],\n",
              "       [1119.7296 ],\n",
              "       [1126.0592 ],\n",
              "       [1106.184  ]], dtype=float32)"
            ]
          },
          "metadata": {
            "tags": []
          },
          "execution_count": 113
        }
      ]
    },
    {
      "cell_type": "code",
      "metadata": {
        "id": "kLOjFUDRVJYz"
      },
      "source": [
        ""
      ],
      "execution_count": null,
      "outputs": []
    },
    {
      "cell_type": "code",
      "metadata": {
        "colab": {
          "base_uri": "https://localhost:8080/",
          "height": 294
        },
        "id": "akHL04i4RgXa",
        "outputId": "10ba2cd5-f240-47a2-af55-46033e97dd3b"
      },
      "source": [
        "#Plotting\n",
        "plt.plot(df_test,color = 'red', label = 'Real Price')\n",
        "plt.plot(test_predict, color = 'green', label = 'Predicted Price')\n",
        "plt.title('Google Stock Price Prediction')\n",
        "plt.xlabel('Time')\n",
        "plt.ylabel('Google Stock Price')\n",
        "plt.legend()\n",
        "plt.show()"
      ],
      "execution_count": null,
      "outputs": [
        {
          "output_type": "display_data",
          "data": {
            "image/png": "[encoded data removed]",
            "text/plain": [
              "<Figure size 432x288 with 1 Axes>"
            ]
          },
          "metadata": {
            "tags": []
          }
        }
      ]
    }
  ]
}